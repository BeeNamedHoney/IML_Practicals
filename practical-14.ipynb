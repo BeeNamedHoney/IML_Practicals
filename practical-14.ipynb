{
 "cells": [
  {
   "cell_type": "code",
   "execution_count": 1,
   "id": "0192eda0",
   "metadata": {
    "_cell_guid": "b1076dfc-b9ad-4769-8c92-a6c4dae69d19",
    "_uuid": "8f2839f25d086af736a60e9eeb907d3b93b6e0e5",
    "execution": {
     "iopub.execute_input": "2023-11-06T07:19:02.496537Z",
     "iopub.status.busy": "2023-11-06T07:19:02.495857Z",
     "iopub.status.idle": "2023-11-06T07:19:05.109251Z",
     "shell.execute_reply": "2023-11-06T07:19:05.108091Z"
    },
    "papermill": {
     "duration": 2.623103,
     "end_time": "2023-11-06T07:19:05.112212",
     "exception": false,
     "start_time": "2023-11-06T07:19:02.489109",
     "status": "completed"
    },
    "tags": []
   },
   "outputs": [
    {
     "name": "stdout",
     "output_type": "stream",
     "text": [
      "<class 'pandas.core.frame.DataFrame'>\n",
      "RangeIndex: 303 entries, 0 to 302\n",
      "Data columns (total 14 columns):\n",
      " #   Column    Non-Null Count  Dtype  \n",
      "---  ------    --------------  -----  \n",
      " 0   age       303 non-null    int64  \n",
      " 1   sex       303 non-null    int64  \n",
      " 2   cp        303 non-null    int64  \n",
      " 3   trestbps  303 non-null    int64  \n",
      " 4   chol      303 non-null    int64  \n",
      " 5   fbs       303 non-null    int64  \n",
      " 6   restecg   303 non-null    int64  \n",
      " 7   thalach   303 non-null    int64  \n",
      " 8   exang     303 non-null    int64  \n",
      " 9   oldpeak   303 non-null    float64\n",
      " 10  slope     303 non-null    int64  \n",
      " 11  ca        303 non-null    int64  \n",
      " 12  thal      303 non-null    int64  \n",
      " 13  target    303 non-null    int64  \n",
      "dtypes: float64(1), int64(13)\n",
      "memory usage: 33.3 KB\n"
     ]
    }
   ],
   "source": [
    "'''\n",
    "Heart Failure Prediction Using KNN(K-Nearest Neighbour)\n",
    "Group Members:\n",
    "Priyanshi Pankhaniya(216270307066)\n",
    "Honey Modha(216270307065)\n",
    "Sanjana Gohel(216270307093)\n",
    "'''\n",
    "\n",
    "'''\n",
    "We have the following values present in the dataset -\n",
    "\n",
    "1) age\n",
    "\n",
    "2) sex: sex (1 = male; 0 = female)\n",
    "\n",
    "3) chest pain type (4 values)\n",
    "\n",
    "4) resting blood pressure\n",
    "\n",
    "5) serum cholestoral in mg/dl\n",
    "\n",
    "6) fasting blood sugar > 120 mg/dl\n",
    "\n",
    "7) resting electrocardiographic results (values 0,1,2)\n",
    "\n",
    "8) maximum heart rate achieved\n",
    "\n",
    "9) exercise induced angina\n",
    "\n",
    "10) oldpeak = ST depression induced by exercise relative to rest\n",
    "\n",
    "11) the slope of the peak exercise ST segment\n",
    "\n",
    "12) number of major vessels (0-3) colored by flourosopy\n",
    "\n",
    "13) thal: 0 = normal; 1 = fixed defect; 2 = reversable defect\n",
    "\n",
    "14) target: 0= less chance of heart attack 1= more chance of heart attack\n",
    "'''\n",
    "\n",
    "#Importing the Libraries\n",
    "import numpy as np\n",
    "import pandas as pd\n",
    "import seaborn as sns\n",
    "\n",
    "#For Model Selection\n",
    "from sklearn.model_selection import train_test_split\n",
    "\n",
    "#Importing the KNN Algorithm\n",
    "from sklearn.neighbors import KNeighborsClassifier\n",
    "from sklearn import preprocessing,neighbors\n",
    "from sklearn.metrics import accuracy_score, classification_report\n",
    "import matplotlib.pyplot as plt\n",
    "\n",
    "# Loading the dataset\n",
    "data = pd.read_csv('/kaggle/input/health-care-data-set-on-heart-attack-possibility/heart.csv');\n",
    "data.info()"
   ]
  },
  {
   "cell_type": "code",
   "execution_count": 2,
   "id": "2e4a12ea",
   "metadata": {
    "execution": {
     "iopub.execute_input": "2023-11-06T07:19:05.123985Z",
     "iopub.status.busy": "2023-11-06T07:19:05.123638Z",
     "iopub.status.idle": "2023-11-06T07:19:05.144440Z",
     "shell.execute_reply": "2023-11-06T07:19:05.143351Z"
    },
    "papermill": {
     "duration": 0.028373,
     "end_time": "2023-11-06T07:19:05.146865",
     "exception": false,
     "start_time": "2023-11-06T07:19:05.118492",
     "status": "completed"
    },
    "tags": []
   },
   "outputs": [
    {
     "data": {
      "text/html": [
       "<div>\n",
       "<style scoped>\n",
       "    .dataframe tbody tr th:only-of-type {\n",
       "        vertical-align: middle;\n",
       "    }\n",
       "\n",
       "    .dataframe tbody tr th {\n",
       "        vertical-align: top;\n",
       "    }\n",
       "\n",
       "    .dataframe thead th {\n",
       "        text-align: right;\n",
       "    }\n",
       "</style>\n",
       "<table border=\"1\" class=\"dataframe\">\n",
       "  <thead>\n",
       "    <tr style=\"text-align: right;\">\n",
       "      <th></th>\n",
       "      <th>age</th>\n",
       "      <th>sex</th>\n",
       "      <th>cp</th>\n",
       "      <th>trestbps</th>\n",
       "      <th>chol</th>\n",
       "      <th>fbs</th>\n",
       "      <th>restecg</th>\n",
       "      <th>thalach</th>\n",
       "      <th>exang</th>\n",
       "      <th>oldpeak</th>\n",
       "      <th>slope</th>\n",
       "      <th>ca</th>\n",
       "      <th>thal</th>\n",
       "      <th>target</th>\n",
       "    </tr>\n",
       "  </thead>\n",
       "  <tbody>\n",
       "    <tr>\n",
       "      <th>0</th>\n",
       "      <td>63</td>\n",
       "      <td>1</td>\n",
       "      <td>3</td>\n",
       "      <td>145</td>\n",
       "      <td>233</td>\n",
       "      <td>1</td>\n",
       "      <td>0</td>\n",
       "      <td>150</td>\n",
       "      <td>0</td>\n",
       "      <td>2.3</td>\n",
       "      <td>0</td>\n",
       "      <td>0</td>\n",
       "      <td>1</td>\n",
       "      <td>1</td>\n",
       "    </tr>\n",
       "    <tr>\n",
       "      <th>1</th>\n",
       "      <td>37</td>\n",
       "      <td>1</td>\n",
       "      <td>2</td>\n",
       "      <td>130</td>\n",
       "      <td>250</td>\n",
       "      <td>0</td>\n",
       "      <td>1</td>\n",
       "      <td>187</td>\n",
       "      <td>0</td>\n",
       "      <td>3.5</td>\n",
       "      <td>0</td>\n",
       "      <td>0</td>\n",
       "      <td>2</td>\n",
       "      <td>1</td>\n",
       "    </tr>\n",
       "    <tr>\n",
       "      <th>2</th>\n",
       "      <td>41</td>\n",
       "      <td>0</td>\n",
       "      <td>1</td>\n",
       "      <td>130</td>\n",
       "      <td>204</td>\n",
       "      <td>0</td>\n",
       "      <td>0</td>\n",
       "      <td>172</td>\n",
       "      <td>0</td>\n",
       "      <td>1.4</td>\n",
       "      <td>2</td>\n",
       "      <td>0</td>\n",
       "      <td>2</td>\n",
       "      <td>1</td>\n",
       "    </tr>\n",
       "    <tr>\n",
       "      <th>3</th>\n",
       "      <td>56</td>\n",
       "      <td>1</td>\n",
       "      <td>1</td>\n",
       "      <td>120</td>\n",
       "      <td>236</td>\n",
       "      <td>0</td>\n",
       "      <td>1</td>\n",
       "      <td>178</td>\n",
       "      <td>0</td>\n",
       "      <td>0.8</td>\n",
       "      <td>2</td>\n",
       "      <td>0</td>\n",
       "      <td>2</td>\n",
       "      <td>1</td>\n",
       "    </tr>\n",
       "    <tr>\n",
       "      <th>4</th>\n",
       "      <td>57</td>\n",
       "      <td>0</td>\n",
       "      <td>0</td>\n",
       "      <td>120</td>\n",
       "      <td>354</td>\n",
       "      <td>0</td>\n",
       "      <td>1</td>\n",
       "      <td>163</td>\n",
       "      <td>1</td>\n",
       "      <td>0.6</td>\n",
       "      <td>2</td>\n",
       "      <td>0</td>\n",
       "      <td>2</td>\n",
       "      <td>1</td>\n",
       "    </tr>\n",
       "  </tbody>\n",
       "</table>\n",
       "</div>"
      ],
      "text/plain": [
       "   age  sex  cp  trestbps  chol  fbs  restecg  thalach  exang  oldpeak  slope  \\\n",
       "0   63    1   3       145   233    1        0      150      0      2.3      0   \n",
       "1   37    1   2       130   250    0        1      187      0      3.5      0   \n",
       "2   41    0   1       130   204    0        0      172      0      1.4      2   \n",
       "3   56    1   1       120   236    0        1      178      0      0.8      2   \n",
       "4   57    0   0       120   354    0        1      163      1      0.6      2   \n",
       "\n",
       "   ca  thal  target  \n",
       "0   0     1       1  \n",
       "1   0     2       1  \n",
       "2   0     2       1  \n",
       "3   0     2       1  \n",
       "4   0     2       1  "
      ]
     },
     "execution_count": 2,
     "metadata": {},
     "output_type": "execute_result"
    }
   ],
   "source": [
    "# Displaying the first few rows\n",
    "data.head()"
   ]
  },
  {
   "cell_type": "code",
   "execution_count": 3,
   "id": "91b600fa",
   "metadata": {
    "execution": {
     "iopub.execute_input": "2023-11-06T07:19:05.157512Z",
     "iopub.status.busy": "2023-11-06T07:19:05.157145Z",
     "iopub.status.idle": "2023-11-06T07:19:05.517761Z",
     "shell.execute_reply": "2023-11-06T07:19:05.516443Z"
    },
    "papermill": {
     "duration": 0.368656,
     "end_time": "2023-11-06T07:19:05.520145",
     "exception": false,
     "start_time": "2023-11-06T07:19:05.151489",
     "status": "completed"
    },
    "tags": []
   },
   "outputs": [
    {
     "data": {
      "text/plain": [
       "<Axes: >"
      ]
     },
     "execution_count": 3,
     "metadata": {},
     "output_type": "execute_result"
    },
    {
     "data": {
      "image/png": "[encoded data removed]",
      "text/plain": [
       "<Figure size 640x480 with 1 Axes>"
      ]
     },
     "metadata": {},
     "output_type": "display_data"
    }
   ],
   "source": [
    "#Implementing the HistoGram\n",
    "data[\"target\"].hist()"
   ]
  },
  {
   "cell_type": "code",
   "execution_count": 4,
   "id": "c06dbb33",
   "metadata": {
    "execution": {
     "iopub.execute_input": "2023-11-06T07:19:05.532974Z",
     "iopub.status.busy": "2023-11-06T07:19:05.532197Z",
     "iopub.status.idle": "2023-11-06T07:19:05.777973Z",
     "shell.execute_reply": "2023-11-06T07:19:05.776829Z"
    },
    "papermill": {
     "duration": 0.254751,
     "end_time": "2023-11-06T07:19:05.780372",
     "exception": false,
     "start_time": "2023-11-06T07:19:05.525621",
     "status": "completed"
    },
    "tags": []
   },
   "outputs": [
    {
     "data": {
      "text/plain": [
       "<Axes: xlabel='target', ylabel='age'>"
      ]
     },
     "execution_count": 4,
     "metadata": {},
     "output_type": "execute_result"
    },
    {
     "data": {
      "image/png": "[encoded data removed]",
      "text/plain": [
       "<Figure size 640x480 with 1 Axes>"
      ]
     },
     "metadata": {},
     "output_type": "display_data"
    }
   ],
   "source": [
    "#Implementing the Box plot of the Age and the Target\n",
    "sns.boxplot(data=data, y=\"age\",x=\"target\")"
   ]
  },
  {
   "cell_type": "code",
   "execution_count": 5,
   "id": "775b7bd7",
   "metadata": {
    "execution": {
     "iopub.execute_input": "2023-11-06T07:19:05.793230Z",
     "iopub.status.busy": "2023-11-06T07:19:05.792847Z",
     "iopub.status.idle": "2023-11-06T07:19:05.801875Z",
     "shell.execute_reply": "2023-11-06T07:19:05.800729Z"
    },
    "papermill": {
     "duration": 0.017923,
     "end_time": "2023-11-06T07:19:05.804045",
     "exception": false,
     "start_time": "2023-11-06T07:19:05.786122",
     "status": "completed"
    },
    "tags": []
   },
   "outputs": [
    {
     "data": {
      "text/plain": [
       "sex\n",
       "1    207\n",
       "0     96\n",
       "Name: count, dtype: int64"
      ]
     },
     "execution_count": 5,
     "metadata": {},
     "output_type": "execute_result"
    }
   ],
   "source": [
    "data[\"sex\"].value_counts()#Disease is present in male population more than females"
   ]
  },
  {
   "cell_type": "code",
   "execution_count": 6,
   "id": "b904aa01",
   "metadata": {
    "execution": {
     "iopub.execute_input": "2023-11-06T07:19:05.817313Z",
     "iopub.status.busy": "2023-11-06T07:19:05.816900Z",
     "iopub.status.idle": "2023-11-06T07:19:06.126235Z",
     "shell.execute_reply": "2023-11-06T07:19:06.125252Z"
    },
    "papermill": {
     "duration": 0.31916,
     "end_time": "2023-11-06T07:19:06.128953",
     "exception": false,
     "start_time": "2023-11-06T07:19:05.809793",
     "status": "completed"
    },
    "tags": []
   },
   "outputs": [],
   "source": [
    "# Separating the features and the target\n",
    "X=data.drop(\"target\", axis=1)\n",
    "\n",
    "# Standardize the features by scaling them to have mean=0 and variance=1\n",
    "X=preprocessing.scale(X)\n",
    "\n",
    "# Defining the target variable\n",
    "y=data['target']\n",
    "\n",
    "# Spliting the data into training set and testing set\n",
    "X_train, X_test, y_train, y_test = train_test_split(X, y, test_size=0.2)\n",
    "\n",
    "\n",
    "error = []\n",
    "for i in range(1,40):\n",
    "    knn = KNeighborsClassifier(n_neighbors=i)# Creating a K-Nearest Neighbors (KNN) classifier\n",
    "    knn.fit(X_train, y_train)# Fit the classifier to the training data\n",
    "    pred = knn.predict(X_test)# Making predictions on the test data using predict function\n",
    "    error.append(np.sum(y_test-pred))"
   ]
  },
  {
   "cell_type": "code",
   "execution_count": 7,
   "id": "4c41e7cc",
   "metadata": {
    "execution": {
     "iopub.execute_input": "2023-11-06T07:19:06.142465Z",
     "iopub.status.busy": "2023-11-06T07:19:06.142083Z",
     "iopub.status.idle": "2023-11-06T07:19:06.462132Z",
     "shell.execute_reply": "2023-11-06T07:19:06.460901Z"
    },
    "papermill": {
     "duration": 0.329626,
     "end_time": "2023-11-06T07:19:06.464631",
     "exception": false,
     "start_time": "2023-11-06T07:19:06.135005",
     "status": "completed"
    },
    "tags": []
   },
   "outputs": [
    {
     "data": {
      "text/plain": [
       "<Axes: >"
      ]
     },
     "execution_count": 7,
     "metadata": {},
     "output_type": "execute_result"
    },
    {
     "data": {
      "image/png": "[encoded data removed]",
      "text/plain": [
       "<Figure size 640x480 with 1 Axes>"
      ]
     },
     "metadata": {},
     "output_type": "display_data"
    }
   ],
   "source": [
    "sns.lineplot(x = range(1, 40), y = error, marker = \"o\", color = \"blue\", markerfacecolor=\"red\")"
   ]
  },
  {
   "cell_type": "code",
   "execution_count": 8,
   "id": "834a36c0",
   "metadata": {
    "execution": {
     "iopub.execute_input": "2023-11-06T07:19:06.479476Z",
     "iopub.status.busy": "2023-11-06T07:19:06.479083Z",
     "iopub.status.idle": "2023-11-06T07:19:06.500999Z",
     "shell.execute_reply": "2023-11-06T07:19:06.499830Z"
    },
    "papermill": {
     "duration": 0.032188,
     "end_time": "2023-11-06T07:19:06.503419",
     "exception": false,
     "start_time": "2023-11-06T07:19:06.471231",
     "status": "completed"
    },
    "tags": []
   },
   "outputs": [
    {
     "name": "stdout",
     "output_type": "stream",
     "text": [
      "              precision    recall  f1-score   support\n",
      "\n",
      "           0       0.83      0.76      0.79        25\n",
      "           1       0.84      0.89      0.86        36\n",
      "\n",
      "    accuracy                           0.84        61\n",
      "   macro avg       0.83      0.82      0.83        61\n",
      "weighted avg       0.84      0.84      0.83        61\n",
      "\n"
     ]
    }
   ],
   "source": [
    "#Taking neighbors as 19\n",
    "knn = KNeighborsClassifier(n_neighbors=19)\n",
    "knn.fit(X_train, y_train)\n",
    "pred = knn.predict(X_test)\n",
    "print(classification_report(y_test,pred))"
   ]
  },
  {
   "cell_type": "code",
   "execution_count": 9,
   "id": "de9c9780",
   "metadata": {
    "execution": {
     "iopub.execute_input": "2023-11-06T07:19:06.518541Z",
     "iopub.status.busy": "2023-11-06T07:19:06.518137Z",
     "iopub.status.idle": "2023-11-06T07:19:06.540006Z",
     "shell.execute_reply": "2023-11-06T07:19:06.538688Z"
    },
    "papermill": {
     "duration": 0.032489,
     "end_time": "2023-11-06T07:19:06.542507",
     "exception": false,
     "start_time": "2023-11-06T07:19:06.510018",
     "status": "completed"
    },
    "tags": []
   },
   "outputs": [
    {
     "name": "stdout",
     "output_type": "stream",
     "text": [
      "              precision    recall  f1-score   support\n",
      "\n",
      "           0       0.90      0.72      0.80        25\n",
      "           1       0.83      0.94      0.88        36\n",
      "\n",
      "    accuracy                           0.85        61\n",
      "   macro avg       0.86      0.83      0.84        61\n",
      "weighted avg       0.86      0.85      0.85        61\n",
      "\n"
     ]
    }
   ],
   "source": [
    "#Neighbours=29\n",
    "knn = KNeighborsClassifier(n_neighbors=29)\n",
    "knn.fit(X_train, y_train)\n",
    "pred = knn.predict(X_test)\t\n",
    "print(classification_report(y_test,pred))"
   ]
  },
  {
   "cell_type": "code",
   "execution_count": 10,
   "id": "bc75c2d6",
   "metadata": {
    "execution": {
     "iopub.execute_input": "2023-11-06T07:19:06.557638Z",
     "iopub.status.busy": "2023-11-06T07:19:06.557269Z",
     "iopub.status.idle": "2023-11-06T07:19:06.572638Z",
     "shell.execute_reply": "2023-11-06T07:19:06.571305Z"
    },
    "papermill": {
     "duration": 0.025592,
     "end_time": "2023-11-06T07:19:06.574949",
     "exception": false,
     "start_time": "2023-11-06T07:19:06.549357",
     "status": "completed"
    },
    "tags": []
   },
   "outputs": [
    {
     "name": "stdout",
     "output_type": "stream",
     "text": [
      "Accuracy: 0.8524590163934426\n"
     ]
    }
   ],
   "source": [
    "clf=KNeighborsClassifier()\n",
    "clf.fit(X_train,y_train)\n",
    "accuracy=clf.score(X_test,y_test)\n",
    "print(\"Accuracy:\",accuracy)\n",
    "#Priting the Accuracy"
   ]
  }
 ],
 "metadata": {
  "kernelspec": {
   "display_name": "Python 3",
   "language": "python",
   "name": "python3"
  },
  "language_info": {
   "codemirror_mode": {
    "name": "ipython",
    "version": 3
   },
   "file_extension": ".py",
   "mimetype": "text/x-python",
   "name": "python",
   "nbconvert_exporter": "python",
   "pygments_lexer": "ipython3",
   "version": "3.10.12"
  },
  "papermill": {
   "default_parameters": {},
   "duration": 8.367878,
   "end_time": "2023-11-06T07:19:07.202507",
   "environment_variables": {},
   "exception": null,
   "input_path": "__notebook__.ipynb",
   "output_path": "__notebook__.ipynb",
   "parameters": {},
   "start_time": "2023-11-06T07:18:58.834629",
   "version": "2.4.0"
  }
 },
 "nbformat": 4,
 "nbformat_minor": 5
}
