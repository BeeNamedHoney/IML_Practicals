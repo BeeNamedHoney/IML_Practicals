{
 "cells": [
  {
   "cell_type": "code",
   "execution_count": 1,
   "id": "5bf0b757",
   "metadata": {
    "execution": {
     "iopub.execute_input": "2023-11-06T06:35:03.060433Z",
     "iopub.status.busy": "2023-11-06T06:35:03.059996Z",
     "iopub.status.idle": "2023-11-06T06:35:03.876368Z",
     "shell.execute_reply": "2023-11-06T06:35:03.875197Z"
    },
    "papermill": {
     "duration": 0.824259,
     "end_time": "2023-11-06T06:35:03.879196",
     "exception": false,
     "start_time": "2023-11-06T06:35:03.054937",
     "status": "completed"
    },
    "tags": []
   },
   "outputs": [
    {
     "data": {
      "text/html": [
       "<div>\n",
       "<style scoped>\n",
       "    .dataframe tbody tr th:only-of-type {\n",
       "        vertical-align: middle;\n",
       "    }\n",
       "\n",
       "    .dataframe tbody tr th {\n",
       "        vertical-align: top;\n",
       "    }\n",
       "\n",
       "    .dataframe thead th {\n",
       "        text-align: right;\n",
       "    }\n",
       "</style>\n",
       "<table border=\"1\" class=\"dataframe\">\n",
       "  <thead>\n",
       "    <tr style=\"text-align: right;\">\n",
       "      <th></th>\n",
       "      <th>Vegetarian</th>\n",
       "      <th>Non-Veg</th>\n",
       "      <th>Vegan</th>\n",
       "    </tr>\n",
       "  </thead>\n",
       "  <tbody>\n",
       "    <tr>\n",
       "      <th>0</th>\n",
       "      <td>Chilli Panner</td>\n",
       "      <td>Egg</td>\n",
       "      <td>Soya Milk</td>\n",
       "    </tr>\n",
       "    <tr>\n",
       "      <th>1</th>\n",
       "      <td>Italian Pizza</td>\n",
       "      <td>Lamb Curry</td>\n",
       "      <td>Cashwes</td>\n",
       "    </tr>\n",
       "    <tr>\n",
       "      <th>2</th>\n",
       "      <td>Fried Rice</td>\n",
       "      <td>Chicken</td>\n",
       "      <td>Tofu</td>\n",
       "    </tr>\n",
       "    <tr>\n",
       "      <th>3</th>\n",
       "      <td>Burrito</td>\n",
       "      <td>Kabab</td>\n",
       "      <td>Cucumber</td>\n",
       "    </tr>\n",
       "  </tbody>\n",
       "</table>\n",
       "</div>"
      ],
      "text/plain": [
       "      Vegetarian     Non-Veg      Vegan\n",
       "0  Chilli Panner         Egg  Soya Milk\n",
       "1  Italian Pizza  Lamb Curry    Cashwes\n",
       "2     Fried Rice     Chicken       Tofu\n",
       "3        Burrito       Kabab   Cucumber"
      ]
     },
     "execution_count": 1,
     "metadata": {},
     "output_type": "execute_result"
    }
   ],
   "source": [
    "'''\n",
    "Name: Honey Modha\n",
    "Enrolment Number: 216270307065\n",
    "Div: G \n",
    "Batch: G3\n",
    "\n",
    "Write a Pandas program to implement following operation \n",
    " to create a dataframe from a dictionary and display it \n",
    " to sort the DataFrame first by 'name' in ascending order \n",
    " to delete the one specific column from the DataFrame \n",
    " to write a DataFrame to CSV file using tab separator \n",
    "'''\n",
    "import numpy as np\n",
    "import pandas as pd\n",
    "\n",
    "# Creating a dataframe from a dictionary and displaying it\n",
    "data = {\"Vegetarian\":[\"Chilli Panner\",\"Italian Pizza\",\"Fried Rice\",\"Burrito\"],\n",
    "       \"Non-Veg\":[\"Egg\",\"Lamb Curry\",\"Chicken\",\"Kabab\"],\n",
    "       \"Vegan\":[\"Soya Milk\",\"Cashwes\",\"Tofu\",\"Cucumber\"]} \n",
    "df = pd.DataFrame(data)\n",
    "df"
   ]
  },
  {
   "cell_type": "code",
   "execution_count": 2,
   "id": "b3debe10",
   "metadata": {
    "execution": {
     "iopub.execute_input": "2023-11-06T06:35:03.888788Z",
     "iopub.status.busy": "2023-11-06T06:35:03.888254Z",
     "iopub.status.idle": "2023-11-06T06:35:03.905568Z",
     "shell.execute_reply": "2023-11-06T06:35:03.904484Z"
    },
    "papermill": {
     "duration": 0.023674,
     "end_time": "2023-11-06T06:35:03.907853",
     "exception": false,
     "start_time": "2023-11-06T06:35:03.884179",
     "status": "completed"
    },
    "tags": []
   },
   "outputs": [
    {
     "data": {
      "text/html": [
       "<div>\n",
       "<style scoped>\n",
       "    .dataframe tbody tr th:only-of-type {\n",
       "        vertical-align: middle;\n",
       "    }\n",
       "\n",
       "    .dataframe tbody tr th {\n",
       "        vertical-align: top;\n",
       "    }\n",
       "\n",
       "    .dataframe thead th {\n",
       "        text-align: right;\n",
       "    }\n",
       "</style>\n",
       "<table border=\"1\" class=\"dataframe\">\n",
       "  <thead>\n",
       "    <tr style=\"text-align: right;\">\n",
       "      <th></th>\n",
       "      <th>Vegetarian</th>\n",
       "      <th>Non-Veg</th>\n",
       "      <th>Vegan</th>\n",
       "    </tr>\n",
       "  </thead>\n",
       "  <tbody>\n",
       "    <tr>\n",
       "      <th>3</th>\n",
       "      <td>Burrito</td>\n",
       "      <td>Kabab</td>\n",
       "      <td>Cucumber</td>\n",
       "    </tr>\n",
       "    <tr>\n",
       "      <th>0</th>\n",
       "      <td>Chilli Panner</td>\n",
       "      <td>Egg</td>\n",
       "      <td>Soya Milk</td>\n",
       "    </tr>\n",
       "    <tr>\n",
       "      <th>2</th>\n",
       "      <td>Fried Rice</td>\n",
       "      <td>Chicken</td>\n",
       "      <td>Tofu</td>\n",
       "    </tr>\n",
       "    <tr>\n",
       "      <th>1</th>\n",
       "      <td>Italian Pizza</td>\n",
       "      <td>Lamb Curry</td>\n",
       "      <td>Cashwes</td>\n",
       "    </tr>\n",
       "  </tbody>\n",
       "</table>\n",
       "</div>"
      ],
      "text/plain": [
       "      Vegetarian     Non-Veg      Vegan\n",
       "3        Burrito       Kabab   Cucumber\n",
       "0  Chilli Panner         Egg  Soya Milk\n",
       "2     Fried Rice     Chicken       Tofu\n",
       "1  Italian Pizza  Lamb Curry    Cashwes"
      ]
     },
     "execution_count": 2,
     "metadata": {},
     "output_type": "execute_result"
    }
   ],
   "source": [
    "# Sorting the DataFrame first by 'name' in ascending order \n",
    "df = df.sort_values(by=['Vegetarian'])\n",
    "df\n"
   ]
  },
  {
   "cell_type": "code",
   "execution_count": 3,
   "id": "aeb1f81a",
   "metadata": {
    "execution": {
     "iopub.execute_input": "2023-11-06T06:35:03.915634Z",
     "iopub.status.busy": "2023-11-06T06:35:03.915004Z",
     "iopub.status.idle": "2023-11-06T06:35:03.925709Z",
     "shell.execute_reply": "2023-11-06T06:35:03.924620Z"
    },
    "papermill": {
     "duration": 0.017101,
     "end_time": "2023-11-06T06:35:03.927902",
     "exception": false,
     "start_time": "2023-11-06T06:35:03.910801",
     "status": "completed"
    },
    "tags": []
   },
   "outputs": [
    {
     "data": {
      "text/html": [
       "<div>\n",
       "<style scoped>\n",
       "    .dataframe tbody tr th:only-of-type {\n",
       "        vertical-align: middle;\n",
       "    }\n",
       "\n",
       "    .dataframe tbody tr th {\n",
       "        vertical-align: top;\n",
       "    }\n",
       "\n",
       "    .dataframe thead th {\n",
       "        text-align: right;\n",
       "    }\n",
       "</style>\n",
       "<table border=\"1\" class=\"dataframe\">\n",
       "  <thead>\n",
       "    <tr style=\"text-align: right;\">\n",
       "      <th></th>\n",
       "      <th>Vegetarian</th>\n",
       "      <th>Vegan</th>\n",
       "    </tr>\n",
       "  </thead>\n",
       "  <tbody>\n",
       "    <tr>\n",
       "      <th>3</th>\n",
       "      <td>Burrito</td>\n",
       "      <td>Cucumber</td>\n",
       "    </tr>\n",
       "    <tr>\n",
       "      <th>0</th>\n",
       "      <td>Chilli Panner</td>\n",
       "      <td>Soya Milk</td>\n",
       "    </tr>\n",
       "    <tr>\n",
       "      <th>2</th>\n",
       "      <td>Fried Rice</td>\n",
       "      <td>Tofu</td>\n",
       "    </tr>\n",
       "    <tr>\n",
       "      <th>1</th>\n",
       "      <td>Italian Pizza</td>\n",
       "      <td>Cashwes</td>\n",
       "    </tr>\n",
       "  </tbody>\n",
       "</table>\n",
       "</div>"
      ],
      "text/plain": [
       "      Vegetarian      Vegan\n",
       "3        Burrito   Cucumber\n",
       "0  Chilli Panner  Soya Milk\n",
       "2     Fried Rice       Tofu\n",
       "1  Italian Pizza    Cashwes"
      ]
     },
     "execution_count": 3,
     "metadata": {},
     "output_type": "execute_result"
    }
   ],
   "source": [
    "# Deleting the 'Non-Veg' column from the DataFrame \n",
    "del df[\"Non-Veg\"]\n",
    "df"
   ]
  },
  {
   "cell_type": "code",
   "execution_count": 4,
   "id": "5b4b4902",
   "metadata": {
    "execution": {
     "iopub.execute_input": "2023-11-06T06:35:03.936487Z",
     "iopub.status.busy": "2023-11-06T06:35:03.935404Z",
     "iopub.status.idle": "2023-11-06T06:35:03.953919Z",
     "shell.execute_reply": "2023-11-06T06:35:03.952570Z"
    },
    "papermill": {
     "duration": 0.025528,
     "end_time": "2023-11-06T06:35:03.956591",
     "exception": false,
     "start_time": "2023-11-06T06:35:03.931063",
     "status": "completed"
    },
    "tags": []
   },
   "outputs": [
    {
     "data": {
      "text/html": [
       "<div>\n",
       "<style scoped>\n",
       "    .dataframe tbody tr th:only-of-type {\n",
       "        vertical-align: middle;\n",
       "    }\n",
       "\n",
       "    .dataframe tbody tr th {\n",
       "        vertical-align: top;\n",
       "    }\n",
       "\n",
       "    .dataframe thead th {\n",
       "        text-align: right;\n",
       "    }\n",
       "</style>\n",
       "<table border=\"1\" class=\"dataframe\">\n",
       "  <thead>\n",
       "    <tr style=\"text-align: right;\">\n",
       "      <th></th>\n",
       "      <th>\\tVegetarian\\tVegan</th>\n",
       "    </tr>\n",
       "  </thead>\n",
       "  <tbody>\n",
       "    <tr>\n",
       "      <th>0</th>\n",
       "      <td>3\\tBurrito\\tCucumber</td>\n",
       "    </tr>\n",
       "    <tr>\n",
       "      <th>1</th>\n",
       "      <td>0\\tChilli Panner\\tSoya Milk</td>\n",
       "    </tr>\n",
       "    <tr>\n",
       "      <th>2</th>\n",
       "      <td>2\\tFried Rice\\tTofu</td>\n",
       "    </tr>\n",
       "    <tr>\n",
       "      <th>3</th>\n",
       "      <td>1\\tItalian Pizza\\tCashwes</td>\n",
       "    </tr>\n",
       "  </tbody>\n",
       "</table>\n",
       "</div>"
      ],
      "text/plain": [
       "           \\tVegetarian\\tVegan\n",
       "0         3\\tBurrito\\tCucumber\n",
       "1  0\\tChilli Panner\\tSoya Milk\n",
       "2          2\\tFried Rice\\tTofu\n",
       "3    1\\tItalian Pizza\\tCashwes"
      ]
     },
     "execution_count": 4,
     "metadata": {},
     "output_type": "execute_result"
    }
   ],
   "source": [
    "# Writing a DataFrame to CSV file using tab separator \n",
    "filePath = \"Food.csv\";\n",
    "df.to_csv(filePath,sep='\\t')\n",
    "pd.read_csv(filePath)"
   ]
  }
 ],
 "metadata": {
  "kernelspec": {
   "display_name": "Python 3",
   "language": "python",
   "name": "python3"
  },
  "language_info": {
   "codemirror_mode": {
    "name": "ipython",
    "version": 3
   },
   "file_extension": ".py",
   "mimetype": "text/x-python",
   "name": "python",
   "nbconvert_exporter": "python",
   "pygments_lexer": "ipython3",
   "version": "3.10.12"
  },
  "papermill": {
   "default_parameters": {},
   "duration": 6.098045,
   "end_time": "2023-11-06T06:35:04.483402",
   "environment_variables": {},
   "exception": null,
   "input_path": "__notebook__.ipynb",
   "output_path": "__notebook__.ipynb",
   "parameters": {},
   "start_time": "2023-11-06T06:34:58.385357",
   "version": "2.4.0"
  }
 },
 "nbformat": 4,
 "nbformat_minor": 5
}
