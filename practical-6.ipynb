{
 "cells": [
  {
   "cell_type": "code",
   "execution_count": 1,
   "id": "06031eac",
   "metadata": {
    "_cell_guid": "b1076dfc-b9ad-4769-8c92-a6c4dae69d19",
    "_uuid": "8f2839f25d086af736a60e9eeb907d3b93b6e0e5",
    "execution": {
     "iopub.execute_input": "2023-11-06T06:34:25.694878Z",
     "iopub.status.busy": "2023-11-06T06:34:25.694542Z",
     "iopub.status.idle": "2023-11-06T06:34:26.014164Z",
     "shell.execute_reply": "2023-11-06T06:34:26.012355Z"
    },
    "papermill": {
     "duration": 0.326756,
     "end_time": "2023-11-06T06:34:26.016713",
     "exception": false,
     "start_time": "2023-11-06T06:34:25.689957",
     "status": "completed"
    },
    "tags": []
   },
   "outputs": [
    {
     "name": "stdout",
     "output_type": "stream",
     "text": [
      "Numpy Array:  [100 130 140  10  70]\n",
      "\n",
      "Pandas Series:\n"
     ]
    },
    {
     "data": {
      "text/plain": [
       "0    100\n",
       "1    130\n",
       "2    140\n",
       "3     10\n",
       "4     70\n",
       "dtype: int64"
      ]
     },
     "execution_count": 1,
     "metadata": {},
     "output_type": "execute_result"
    }
   ],
   "source": [
    "'''\n",
    "Name: Honey Modha\n",
    "Enrolment Number: 216270307065\n",
    "Div: G \n",
    "Batch: G3\n",
    "    \n",
    "Write a Pandas program to implement following operation \n",
    " to convert a NumPy array to a Pandas series \n",
    " to convert the first column of a DataFrame as a Series \n",
    " to create the mean and standard deviation of the data of a given Series \n",
    " to sort a given Series\n",
    "'''\n",
    "\n",
    "# Converting a NumPy array to a Pandas series \n",
    "\n",
    "import pandas as pd\n",
    "import numpy as np\n",
    "\n",
    "arr = np.array([100,130,140,10,70])\n",
    "print(\"Numpy Array: \",arr)\n",
    "\n",
    "pd_Arr = pd.Series(arr)\n",
    "print(\"\\nPandas Series:\") \n",
    "pd_Arr"
   ]
  },
  {
   "cell_type": "code",
   "execution_count": 2,
   "id": "906d804d",
   "metadata": {
    "execution": {
     "iopub.execute_input": "2023-11-06T06:34:26.025241Z",
     "iopub.status.busy": "2023-11-06T06:34:26.024743Z",
     "iopub.status.idle": "2023-11-06T06:34:26.035151Z",
     "shell.execute_reply": "2023-11-06T06:34:26.033938Z"
    },
    "papermill": {
     "duration": 0.016593,
     "end_time": "2023-11-06T06:34:26.037847",
     "exception": false,
     "start_time": "2023-11-06T06:34:26.021254",
     "status": "completed"
    },
    "tags": []
   },
   "outputs": [
    {
     "name": "stdout",
     "output_type": "stream",
     "text": [
      "Original Dataframe:\n",
      "\n",
      "1st column of DataFrame as Series:\n",
      "\n"
     ]
    },
    {
     "data": {
      "text/plain": [
       "0      Alen\n",
       "1      Axel\n",
       "2    Sharon\n",
       "3    Taylor\n",
       "Name: Grade A, dtype: object"
      ]
     },
     "execution_count": 2,
     "metadata": {},
     "output_type": "execute_result"
    }
   ],
   "source": [
    "# Converting the first column of a DataFrame as a Series \n",
    "\n",
    "data = {\"Grade A\": [\"Alen\",\"Axel\",\"Sharon\",\"Taylor\"],\"Grade B\": [\"Saivvy\",\"Saoirse\",\"Kylie\",\"Caleb\"]}\n",
    "df = pd.DataFrame(data)\n",
    "print(\"Original Dataframe:\\n\")\n",
    "df\n",
    "\n",
    "df2 = df.iloc[:, 0]\n",
    "print(\"1st column of DataFrame as Series:\\n\")\n",
    "df2"
   ]
  },
  {
   "cell_type": "code",
   "execution_count": 3,
   "id": "3a93c987",
   "metadata": {
    "execution": {
     "iopub.execute_input": "2023-11-06T06:34:26.044022Z",
     "iopub.status.busy": "2023-11-06T06:34:26.043670Z",
     "iopub.status.idle": "2023-11-06T06:34:26.054188Z",
     "shell.execute_reply": "2023-11-06T06:34:26.051896Z"
    },
    "papermill": {
     "duration": 0.017029,
     "end_time": "2023-11-06T06:34:26.057393",
     "exception": false,
     "start_time": "2023-11-06T06:34:26.040364",
     "status": "completed"
    },
    "tags": []
   },
   "outputs": [
    {
     "name": "stdout",
     "output_type": "stream",
     "text": [
      "Series:\n",
      "0    100\n",
      "1    130\n",
      "2    140\n",
      "3     10\n",
      "4     70\n",
      "dtype: int64\n",
      "\n",
      "Mean: 90.0\n",
      "Standard Deviation:  52.44044240850758\n"
     ]
    }
   ],
   "source": [
    "# Creating the mean and standard deviation of the data of a given Series \n",
    "print(\"Series:\")\n",
    "print(pd_Arr)\n",
    "\n",
    "x = pd_Arr.mean()\n",
    "print(\"\\nMean:\",x)\n",
    "\n",
    "y = pd_Arr.std()\n",
    "print(\"Standard Deviation: \",y)"
   ]
  },
  {
   "cell_type": "code",
   "execution_count": 4,
   "id": "d6b80f63",
   "metadata": {
    "execution": {
     "iopub.execute_input": "2023-11-06T06:34:26.064295Z",
     "iopub.status.busy": "2023-11-06T06:34:26.063752Z",
     "iopub.status.idle": "2023-11-06T06:34:26.077068Z",
     "shell.execute_reply": "2023-11-06T06:34:26.074694Z"
    },
    "papermill": {
     "duration": 0.019749,
     "end_time": "2023-11-06T06:34:26.079687",
     "exception": false,
     "start_time": "2023-11-06T06:34:26.059938",
     "status": "completed"
    },
    "tags": []
   },
   "outputs": [
    {
     "name": "stdout",
     "output_type": "stream",
     "text": [
      "Before sorting:\n",
      "0    1000\n",
      "1    2000\n",
      "2     500\n",
      "3      50\n",
      "4     120\n",
      "dtype: int64\n",
      "\n",
      "After sorting:\n",
      "3      50\n",
      "4     120\n",
      "2     500\n",
      "0    1000\n",
      "1    2000\n",
      "dtype: int64\n"
     ]
    }
   ],
   "source": [
    "#Sorting a given Series \n",
    "arr1 = np.array([1000,2000,500,50,120])\n",
    "s2 = pd.Series(arr1)\n",
    "print(\"Before sorting:\")\n",
    "print(s2)\n",
    "print(\"\\nAfter sorting:\")\n",
    "print(pd.Series.sort_values(s2))\n"
   ]
  },
  {
   "cell_type": "code",
   "execution_count": null,
   "id": "fede6dde",
   "metadata": {
    "papermill": {
     "duration": 0.002349,
     "end_time": "2023-11-06T06:34:26.085386",
     "exception": false,
     "start_time": "2023-11-06T06:34:26.083037",
     "status": "completed"
    },
    "tags": []
   },
   "outputs": [],
   "source": []
  }
 ],
 "metadata": {
  "kernelspec": {
   "display_name": "Python 3",
   "language": "python",
   "name": "python3"
  },
  "language_info": {
   "codemirror_mode": {
    "name": "ipython",
    "version": 3
   },
   "file_extension": ".py",
   "mimetype": "text/x-python",
   "name": "python",
   "nbconvert_exporter": "python",
   "pygments_lexer": "ipython3",
   "version": "3.10.12"
  },
  "papermill": {
   "default_parameters": {},
   "duration": 3.760494,
   "end_time": "2023-11-06T06:34:26.510227",
   "environment_variables": {},
   "exception": null,
   "input_path": "__notebook__.ipynb",
   "output_path": "__notebook__.ipynb",
   "parameters": {},
   "start_time": "2023-11-06T06:34:22.749733",
   "version": "2.4.0"
  }
 },
 "nbformat": 4,
 "nbformat_minor": 5
}
