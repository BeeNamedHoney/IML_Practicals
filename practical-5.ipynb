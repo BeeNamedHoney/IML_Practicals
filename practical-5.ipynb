{
 "cells": [
  {
   "cell_type": "code",
   "execution_count": 1,
   "id": "d119f8fb",
   "metadata": {
    "execution": {
     "iopub.execute_input": "2023-11-06T06:31:45.347632Z",
     "iopub.status.busy": "2023-11-06T06:31:45.347229Z",
     "iopub.status.idle": "2023-11-06T06:31:45.367182Z",
     "shell.execute_reply": "2023-11-06T06:31:45.365377Z"
    },
    "papermill": {
     "duration": 0.027162,
     "end_time": "2023-11-06T06:31:45.369955",
     "exception": false,
     "start_time": "2023-11-06T06:31:45.342793",
     "status": "completed"
    },
    "tags": []
   },
   "outputs": [
    {
     "name": "stdout",
     "output_type": "stream",
     "text": [
      "[[101 201 301]\n",
      " [401 501 601]\n",
      " [701 801 901]]\n",
      "\n",
      "Maximum value : 901\n",
      "Minimum value : 101\n"
     ]
    }
   ],
   "source": [
    "'''\n",
    "Name: Honey Modha\n",
    "Enrolment Number: 216270307065\n",
    "Div: G \n",
    "Batch: G3\n",
    "\n",
    "Write a NumPy program to implement following operation:\n",
    " to find the maximum and minimum value of a given flattened array \n",
    " to compute the mean, standard deviation, and variance of a given array along the second axis \n",
    "\n",
    "'''\n",
    "\n",
    "import numpy as np\n",
    "\n",
    "Arr = np.array([[101, 201, 301],[401, 501, 601],[701, 801, 901]])\n",
    "\n",
    "# Flattening the array \n",
    "flattened = Arr.flatten()\n",
    "\n",
    "# Maximum and Minimum values from the flattened array\n",
    "max_value = np.max(flattened)\n",
    "min_value = np.min(flattened)\n",
    "\n",
    "print(Arr)\n",
    "print(\"\\nMaximum value :\", max_value)\n",
    "print(\"Minimum value :\", min_value)"
   ]
  },
  {
   "cell_type": "code",
   "execution_count": 2,
   "id": "6f049d75",
   "metadata": {
    "execution": {
     "iopub.execute_input": "2023-11-06T06:31:45.377749Z",
     "iopub.status.busy": "2023-11-06T06:31:45.377361Z",
     "iopub.status.idle": "2023-11-06T06:31:45.385953Z",
     "shell.execute_reply": "2023-11-06T06:31:45.384802Z"
    },
    "papermill": {
     "duration": 0.016251,
     "end_time": "2023-11-06T06:31:45.388526",
     "exception": false,
     "start_time": "2023-11-06T06:31:45.372275",
     "status": "completed"
    },
    "tags": []
   },
   "outputs": [
    {
     "name": "stdout",
     "output_type": "stream",
     "text": [
      "[[101 201 301]\n",
      " [401 501 601]\n",
      " [701 801 901]]\n",
      "\n",
      "Mean along the second axis: [201. 501. 801.]\n",
      "\n",
      "Standard Deviation along the second axis: [81.64965809 81.64965809 81.64965809]\n",
      "\n",
      "Variance along the second axis: [6666.66666667 6666.66666667 6666.66666667]\n"
     ]
    }
   ],
   "source": [
    "# Computing the mean, standard deviation, and variance of a given array along the second axis\n",
    "\n",
    "mean_sa = np.mean(Arr, axis=1)\n",
    "std_deviation = np.std(Arr, axis=1)\n",
    "variance = np.var(Arr, axis=1)\n",
    "\n",
    "print(Arr)\n",
    "print(\"\\nMean along the second axis:\", mean_sa)\n",
    "print(\"\\nStandard Deviation along the second axis:\", std_deviation)\n",
    "print(\"\\nVariance along the second axis:\", variance)"
   ]
  }
 ],
 "metadata": {
  "kernelspec": {
   "display_name": "Python 3",
   "language": "python",
   "name": "python3"
  },
  "language_info": {
   "codemirror_mode": {
    "name": "ipython",
    "version": 3
   },
   "file_extension": ".py",
   "mimetype": "text/x-python",
   "name": "python",
   "nbconvert_exporter": "python",
   "pygments_lexer": "ipython3",
   "version": "3.10.12"
  },
  "papermill": {
   "default_parameters": {},
   "duration": 4.022661,
   "end_time": "2023-11-06T06:31:45.709892",
   "environment_variables": {},
   "exception": null,
   "input_path": "__notebook__.ipynb",
   "output_path": "__notebook__.ipynb",
   "parameters": {},
   "start_time": "2023-11-06T06:31:41.687231",
   "version": "2.4.0"
  }
 },
 "nbformat": 4,
 "nbformat_minor": 5
}
